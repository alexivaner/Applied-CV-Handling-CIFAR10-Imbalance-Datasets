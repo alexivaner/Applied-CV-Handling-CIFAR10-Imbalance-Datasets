{
 "cells": [
  {
   "cell_type": "code",
   "execution_count": 3,
   "metadata": {},
   "outputs": [
    {
     "name": "stdout",
     "output_type": "stream",
     "text": [
      "Files already downloaded and verified\n",
      "Files already downloaded and verified\n"
     ]
    }
   ],
   "source": [
    "from datasets import CIFAR10_truncated\n",
    "import argparse\n",
    "from models import *\n",
    "from utils import progress_bar\n",
    "\n",
    "from torchvision import transforms\n",
    "import torch.utils.data as data\n",
    "import torch\n",
    "import torch.nn as nn\n",
    "import torch.optim as optim\n",
    "import torch.backends.cudnn as cudnn\n",
    "import os\n",
    "import matplotlib.pyplot as plt\n",
    "import numpy as np\n",
    "\n",
    "\n",
    "def get_dataloader(datadir, train_bs, test_bs, dataidxs=None):\n",
    "    transform = transforms.Compose([transforms.ToTensor()])\n",
    "    train_ds = CIFAR10_truncated(datadir, dataidxs=dataidxs, train=True, transform=transform, download=True)\n",
    "    test_ds = CIFAR10_truncated(datadir, train=False, transform=transform, download=True)\n",
    "    train_dl = data.DataLoader(dataset=train_ds, batch_size=train_bs, shuffle=True, num_workers=2)\n",
    "    test_dl = data.DataLoader(dataset=test_ds, batch_size=test_bs, shuffle=False, num_workers=2)\n",
    "    return train_dl, test_dl\n",
    "\n",
    "\n",
    "def adjust_learning_rate(optimizer, epoch, lr):\n",
    "    if epoch in args.lr_schedule:\n",
    "        lr *= args.lr_factor\n",
    "        for param_group in optimizer.param_groups:\n",
    "            param_group['lr'] = lr\n",
    "\n",
    "\n",
    "\n",
    "dataidxs = []\n",
    "# load the index of imbalanced CIFAR-10 from dataidx.txt\n",
    "with open(\"dataidx.txt\", \"r\") as f:\n",
    "    for line in f:\n",
    "        dataidxs.append(int(line.strip()))\n",
    "# get the training/testing data loader\n",
    "train_dl, test_dl = get_dataloader(\"./data/cifar10\", 256, 100, dataidxs)"
   ]
  },
  {
   "cell_type": "code",
   "execution_count": 4,
   "metadata": {},
   "outputs": [
    {
     "data": {
      "text/plain": [
       "array([4, 6, 4, ..., 5, 4, 2])"
      ]
     },
     "execution_count": 4,
     "metadata": {},
     "output_type": "execute_result"
    }
   ],
   "source": [
    "train_dl.dataset.target"
   ]
  },
  {
   "cell_type": "raw",
   "metadata": {},
   "source": []
  }
 ],
 "metadata": {
  "kernelspec": {
   "display_name": "Python 3",
   "language": "python",
   "name": "python3"
  },
  "language_info": {
   "codemirror_mode": {
    "name": "ipython",
    "version": 3
   },
   "file_extension": ".py",
   "mimetype": "text/x-python",
   "name": "python",
   "nbconvert_exporter": "python",
   "pygments_lexer": "ipython3",
   "version": "3.8.5"
  }
 },
 "nbformat": 4,
 "nbformat_minor": 1
}
